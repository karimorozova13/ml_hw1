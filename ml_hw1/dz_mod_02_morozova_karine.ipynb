{
 "cells": [
  {
   "cell_type": "code",
   "execution_count": 160,
   "id": "3d08547e-b15e-4dfd-a63a-ab170746c013",
   "metadata": {},
   "outputs": [],
   "source": [
    "from sklearn.datasets import fetch_california_housing\n",
    "\n",
    "california_housing = fetch_california_housing(as_frame=True)\n",
    "\n",
    "data = california_housing['frame']\n"
   ]
  },
  {
   "cell_type": "code",
   "execution_count": 161,
   "id": "e66b8fe1-ca01-4c05-ac45-1c1e90c4a895",
   "metadata": {},
   "outputs": [],
   "source": [
    "from scipy.stats import zscore\n",
    "    \n",
    "features_of_interest = ['AveRooms', \"AveBedrms\", 'AveOccup', 'Population']\n",
    "\n",
    "df_zscore = data[features_of_interest].apply(zscore)"
   ]
  },
  {
   "cell_type": "code",
   "execution_count": 162,
   "id": "0a8800eb-4e14-415d-86e4-f48a0bd61b60",
   "metadata": {},
   "outputs": [],
   "source": [
    "outliers = df_zscore.apply(lambda x: (x < -3) | (x > 3))\n",
    "outlier_indices = outliers.any(axis=1)"
   ]
  },
  {
   "cell_type": "code",
   "execution_count": 163,
   "id": "3118f3fc-e8be-4d71-8165-6726661b3671",
   "metadata": {},
   "outputs": [],
   "source": [
    "df_cleaned = data[~outlier_indices]"
   ]
  },
  {
   "cell_type": "code",
   "execution_count": 164,
   "id": "ac95471d-3cb8-4e4a-818f-09120f4811dc",
   "metadata": {},
   "outputs": [],
   "source": [
    "target = df_cleaned['MedHouseVal']"
   ]
  },
  {
   "cell_type": "code",
   "execution_count": 165,
   "id": "6103fa1b-c1ae-474a-8830-c4a727dc1938",
   "metadata": {},
   "outputs": [],
   "source": [
    "df_cleaned = df_cleaned.drop(columns=['MedHouseVal', 'AveRooms'])"
   ]
  },
  {
   "cell_type": "code",
   "execution_count": 166,
   "id": "2d1ce112-96f8-4d19-b0d8-a8fe9545f6f5",
   "metadata": {},
   "outputs": [],
   "source": [
    "from sklearn.model_selection import train_test_split\n",
    "\n",
    "X_train, X_test, y_train, y_test = train_test_split(df_cleaned, \n",
    "                                                    target, \n",
    "                                                    test_size=0.2, \n",
    "                                                    random_state=42)"
   ]
  },
  {
   "cell_type": "code",
   "execution_count": 167,
   "id": "f5b2027b-5859-4e8f-b903-6f3d2fe759a3",
   "metadata": {},
   "outputs": [],
   "source": [
    "from sklearn.preprocessing import StandardScaler\n",
    "\n",
    "scaler = StandardScaler().set_output(transform='pandas').fit(X_train)\n",
    "\n",
    "X_train_scaled = scaler.transform(X_train)\n",
    "X_test_scaled = scaler.transform(X_test)"
   ]
  },
  {
   "cell_type": "code",
   "execution_count": 168,
   "id": "bd87ed50-38f0-4cc9-a38c-e07e67848b24",
   "metadata": {},
   "outputs": [],
   "source": [
    "from sklearn.linear_model import LinearRegression\n",
    "import pandas as pd \n",
    "\n",
    "model = LinearRegression().fit(X_train_scaled, y_train)\n",
    "\n",
    "y_pred = model.predict(X_test_scaled)\n",
    "\n",
    "ymin, ymax = y_train.agg(['min', 'max']).values\n",
    "\n",
    "y_pred = pd.Series(y_pred, index=X_test_scaled.index).clip(ymin, ymax)\n"
   ]
  },
  {
   "cell_type": "code",
   "execution_count": 169,
   "id": "4dbbd144-f187-4151-90eb-5e81eba833c1",
   "metadata": {},
   "outputs": [
    {
     "name": "stdout",
     "output_type": "stream",
     "text": [
      "R2: 0.64 | MAE: 0.50 | MAPE: 0.29\n"
     ]
    }
   ],
   "source": [
    "from sklearn.metrics import mean_absolute_error, mean_absolute_percentage_error\n",
    "\n",
    "r_sq = model.score(X_train_scaled, y_train)\n",
    "mae = mean_absolute_error(y_test, y_pred)\n",
    "mape = mean_absolute_percentage_error(y_test, y_pred)\n",
    "\n",
    "print(f'R2: {r_sq:.2f} | MAE: {mae:.2f} | MAPE: {mape:.2f}')"
   ]
  },
  {
   "cell_type": "code",
   "execution_count": null,
   "id": "203036c6-9ec1-474e-9d1e-ec1bd7142232",
   "metadata": {},
   "outputs": [],
   "source": [
    "Висновки:\n",
    "Коефіцієнт детермінації (R²):\n",
    "Mодель здатна пояснювати більшу частину дисперсії цільової змінної, ніж попередня.\n",
    "    \n",
    "Середня абсолютна похибка (MAE):\n",
    "Cередня абсолютна похибка моделі зменшилася, що свідчить про менші розбіжності між прогнозованими та спостережуваними значеннямиї.\n",
    "    \n",
    "Середня абсолютна похибка у відсотках (MAPE):\n",
    "Mодель відтворює цільову змінну з меншою відсотковою похибкою, що є важливим показником для оцінки точності прогнозів.\n",
    "    \n",
    "Загальні висновки:\n",
    "Bидалення аномалій у виборі ознак для моделювання, дозволили покращити результати моделі.\n",
    "Кожен з вимірюваних показників (R², MAE, MAPE) покращився на приблизно 2% пунктів.\n",
    "Використання більш точних методів обробки даних, таких як виявлення аномалій за допомогою Z-оцінок і вибір ознак з високою кореляцією, сприяло покращенню результатів моделі.\n"
   ]
  }
 ],
 "metadata": {
  "kernelspec": {
   "display_name": "Python 3 (Spyder)",
   "language": "python3",
   "name": "python3"
  },
  "language_info": {
   "codemirror_mode": {
    "name": "ipython",
    "version": 3
   },
   "file_extension": ".py",
   "mimetype": "text/x-python",
   "name": "python",
   "nbconvert_exporter": "python",
   "pygments_lexer": "ipython3",
   "version": "3.11.9"
  }
 },
 "nbformat": 4,
 "nbformat_minor": 5
}
